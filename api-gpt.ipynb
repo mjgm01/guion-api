{
 "cells": [
  {
   "cell_type": "markdown",
   "id": "c46c3db8",
   "metadata": {},
   "source": [
    "<h1><center>  <div style=\"background-color:lightgray;border-radius:10px; padding: 10px;\"> Uso de API de OpenAI</div></center></h1>"
   ]
  },
  {
   "cell_type": "markdown",
   "id": "3dc4d952",
   "metadata": {},
   "source": [
    "Se prentende utilizar la API de OpenAI y Python para generar un guión para la promoción de productos de cuidado de la piel. A continuación se presentan los pasos que han sido utilizados:"
   ]
  },
  {
   "cell_type": "markdown",
   "id": "05c40209",
   "metadata": {},
   "source": [
    " ### 1. Librerías a utilizar"
   ]
  },
  {
   "cell_type": "markdown",
   "id": "2ae2151f",
   "metadata": {},
   "source": [
    "<div style=\"border-radius:10px; border:#808080 solid; padding: 15px; background-color: ##F0E68C ; font-size:100%; text-align:left\">\n",
    "Se importan las librerías necesarias."
   ]
  },
  {
   "cell_type": "code",
   "execution_count": 1,
   "id": "00e1b319",
   "metadata": {},
   "outputs": [],
   "source": [
    "#!pip install openai\n",
    "import os\n",
    "from openai import OpenAI\n",
    "import pandas as pd"
   ]
  },
  {
   "cell_type": "markdown",
   "id": "0fe1e4e3",
   "metadata": {},
   "source": [
    "### 2. API de OpenAI \n"
   ]
  },
  {
   "cell_type": "markdown",
   "id": "5780d2db",
   "metadata": {},
   "source": [
    "<div style=\"border-radius:10px; border:#808080 solid; padding: 15px; background-color: ##F0E68C ; font-size:100%; text-align:left\">\n",
    "Se llama la función de la librería de OpenAI para Python llamada openai.Completion.create."
   ]
  },
  {
   "cell_type": "code",
   "execution_count": 2,
   "id": "3f939d42",
   "metadata": {},
   "outputs": [],
   "source": [
    "key = 'ingresa aquí tu key'\n",
    "\n",
    "os.environ['OPENAI_API_KEY'] = key\n",
    "client = OpenAI()"
   ]
  },
  {
   "cell_type": "markdown",
   "id": "e529a11c",
   "metadata": {},
   "source": [
    "### 3.  Definición de funciones"
   ]
  },
  {
   "cell_type": "markdown",
   "id": "8c7ea226",
   "metadata": {},
   "source": [
    "<div style=\"border-radius:10px; border:#808080 solid; padding: 15px; background-color: ##F0E68C ; font-size:100%; text-align:left\">\n",
    "    \n",
    "Se crea una la función de llamada a GPT, definiendo prompt, engine, y max_tokens."
   ]
  },
  {
   "cell_type": "code",
   "execution_count": 3,
   "id": "52e16a2a",
   "metadata": {},
   "outputs": [],
   "source": [
    "def gpt(prompt, engine=\"gpt-3.5-turbo-instruct\", max_tokens=1000):\n",
    "  response = client.completions.create(\n",
    "    model=engine,  \n",
    "    prompt=prompt,  \n",
    "    max_tokens=max_tokens  \n",
    "  )\n",
    "  return(response.choices[0].text.strip())"
   ]
  },
  {
   "cell_type": "markdown",
   "id": "7e5ef0dd",
   "metadata": {},
   "source": [
    "### 4. Cargar archivo de excel "
   ]
  },
  {
   "cell_type": "markdown",
   "id": "37aa78c4",
   "metadata": {},
   "source": [
    "<div style=\"border-radius:10px; border:#808080 solid; padding: 15px; background-color: ##F0E68C ; font-size:100%; text-align:left\">\n",
    "Se carga un archivo de excel previamente elaborado, este contiene la información que se necesitará para realizar el prompt. Se pretende realizar un guión para un video que contenga los pasos de skincare, enfocado en promocionar los productos de una marca. \n",
    "\n",
    "**Nota:** Los productos y descripciones utilizadas se han cargado con fines meramente prácticos. Puedes consultar la fuente original aquí: https://www.laroche-posay.es/article/rutina-facial-que-orden-tengo-que-seguir#:~:text=El%20orden%20de%20la%20rutina%20facial%3A%20pasos%20a,S%C3%A9rum%20facial%20...%205%20Contorno%20de%20ojos%20"
   ]
  },
  {
   "cell_type": "code",
   "execution_count": 5,
   "id": "cebf3b1b",
   "metadata": {
    "scrolled": true
   },
   "outputs": [
    {
     "data": {
      "text/html": [
       "<div>\n",
       "<style scoped>\n",
       "    .dataframe tbody tr th:only-of-type {\n",
       "        vertical-align: middle;\n",
       "    }\n",
       "\n",
       "    .dataframe tbody tr th {\n",
       "        vertical-align: top;\n",
       "    }\n",
       "\n",
       "    .dataframe thead th {\n",
       "        text-align: right;\n",
       "    }\n",
       "</style>\n",
       "<table border=\"1\" class=\"dataframe\">\n",
       "  <thead>\n",
       "    <tr style=\"text-align: right;\">\n",
       "      <th></th>\n",
       "      <th>Paso</th>\n",
       "      <th>Descripción</th>\n",
       "      <th>Producto</th>\n",
       "      <th>Descripción Producto</th>\n",
       "      <th>Uso del Producto</th>\n",
       "    </tr>\n",
       "  </thead>\n",
       "  <tbody>\n",
       "    <tr>\n",
       "      <th>0</th>\n",
       "      <td>LIMPIEZA FACIAL</td>\n",
       "      <td>El primer paso en cualquier rutina facial es l...</td>\n",
       "      <td>Toleriane Dermolimpiador</td>\n",
       "      <td>Desmaquillante y limpiador facial de uso diari...</td>\n",
       "      <td>Aplicar y masajear sobre la piel con la yema d...</td>\n",
       "    </tr>\n",
       "    <tr>\n",
       "      <th>1</th>\n",
       "      <td>EXFOLIAR LA PIEL</td>\n",
       "      <td>El proceso de exfoliación de la piel consiste ...</td>\n",
       "      <td>Efflacar Gel Limpiador Purificante</td>\n",
       "      <td>En pieles con tendencia a las imperfecciones, ...</td>\n",
       "      <td>Tomar una pequeña cantidad de limpiador.Aplica...</td>\n",
       "    </tr>\n",
       "    <tr>\n",
       "      <th>2</th>\n",
       "      <td>SÉRUM FACIAL</td>\n",
       "      <td>Siguiendo con este orden de rutina facial, le ...</td>\n",
       "      <td>Hyalu B5 Sérum</td>\n",
       "      <td>Su textura fresca se combina con dos ácidos hi...</td>\n",
       "      <td>Una avellana de producto.\\nMañana y/o noche. \\...</td>\n",
       "    </tr>\n",
       "  </tbody>\n",
       "</table>\n",
       "</div>"
      ],
      "text/plain": [
       "               Paso                                        Descripción  \\\n",
       "0   LIMPIEZA FACIAL  El primer paso en cualquier rutina facial es l...   \n",
       "1  EXFOLIAR LA PIEL  El proceso de exfoliación de la piel consiste ...   \n",
       "2      SÉRUM FACIAL  Siguiendo con este orden de rutina facial, le ...   \n",
       "\n",
       "                             Producto  \\\n",
       "0            Toleriane Dermolimpiador   \n",
       "1  Efflacar Gel Limpiador Purificante   \n",
       "2                      Hyalu B5 Sérum   \n",
       "\n",
       "                                Descripción Producto  \\\n",
       "0  Desmaquillante y limpiador facial de uso diari...   \n",
       "1  En pieles con tendencia a las imperfecciones, ...   \n",
       "2  Su textura fresca se combina con dos ácidos hi...   \n",
       "\n",
       "                                    Uso del Producto  \n",
       "0  Aplicar y masajear sobre la piel con la yema d...  \n",
       "1  Tomar una pequeña cantidad de limpiador.Aplica...  \n",
       "2  Una avellana de producto.\\nMañana y/o noche. \\...  "
      ]
     },
     "execution_count": 5,
     "metadata": {},
     "output_type": "execute_result"
    }
   ],
   "source": [
    "df = pd.read_excel(\"rutina_facial_roche.xlsx\")\n",
    "df"
   ]
  },
  {
   "cell_type": "markdown",
   "id": "af6f3734",
   "metadata": {},
   "source": [
    "### 5. Prompt"
   ]
  },
  {
   "cell_type": "markdown",
   "id": "4502471b",
   "metadata": {},
   "source": [
    "<div style=\"border-radius:10px; border:#808080 solid; padding: 15px; background-color: ##F0E68C ; font-size:100%; text-align:left\">\n",
    "Para realizar el prompt se utilizarán buenas prácticas en el uso de IA´s generativas, como el uso de comillas, extensión del parráfo, tono y el rol."
   ]
  },
  {
   "cell_type": "code",
   "execution_count": 9,
   "id": "2c48a7fa",
   "metadata": {},
   "outputs": [],
   "source": [
    "def skincare(row):\n",
    "    Paso = row['Paso']\n",
    "    Descripción = row['Descripción']\n",
    "    Producto = row['Producto']\n",
    "    DescripProduc = row['Descripción Producto']\n",
    "    Uso = row['Uso del Producto']\n",
    "\n",
    "    prompt = f\"\"\"Actúa como un creador de contenido. Escribe un guión corto para un vídeo de 1 minuto, sobre skincare abacarcando\n",
    "    la {Descripción} de cada {Paso} en un total de 200 palabras. Destaca de manera positiva el {Producto} \n",
    "    añade también la {DescripProduc}. Sugiere de que manera se recomienda su {Uso}. \n",
    "    Como título utiliza 'SkinCare en un minuto'. Hazlo en un tono positivo, amable e informal.\n",
    "    Dame un guión de calidad, por favor, es importante para mi trabajo.\"\"\"\n",
    "    response = gpt(prompt)\n",
    "    return response"
   ]
  },
  {
   "cell_type": "markdown",
   "id": "765652c5",
   "metadata": {},
   "source": [
    "<div style=\"border-radius:10px; border:#808080 solid; padding: 15px; background-color: ##F0E68C ; font-size:100%; text-align:left\">\n",
    "Se carga el guión al df existente."
   ]
  },
  {
   "cell_type": "code",
   "execution_count": 10,
   "id": "37721247",
   "metadata": {},
   "outputs": [
    {
     "data": {
      "text/html": [
       "<div>\n",
       "<style scoped>\n",
       "    .dataframe tbody tr th:only-of-type {\n",
       "        vertical-align: middle;\n",
       "    }\n",
       "\n",
       "    .dataframe tbody tr th {\n",
       "        vertical-align: top;\n",
       "    }\n",
       "\n",
       "    .dataframe thead th {\n",
       "        text-align: right;\n",
       "    }\n",
       "</style>\n",
       "<table border=\"1\" class=\"dataframe\">\n",
       "  <thead>\n",
       "    <tr style=\"text-align: right;\">\n",
       "      <th></th>\n",
       "      <th>Paso</th>\n",
       "      <th>Descripción</th>\n",
       "      <th>Producto</th>\n",
       "      <th>Descripción Producto</th>\n",
       "      <th>Uso del Producto</th>\n",
       "      <th>guion</th>\n",
       "    </tr>\n",
       "  </thead>\n",
       "  <tbody>\n",
       "    <tr>\n",
       "      <th>0</th>\n",
       "      <td>LIMPIEZA FACIAL</td>\n",
       "      <td>El primer paso en cualquier rutina facial es l...</td>\n",
       "      <td>Toleriane Dermolimpiador</td>\n",
       "      <td>Desmaquillante y limpiador facial de uso diari...</td>\n",
       "      <td>Aplicar y masajear sobre la piel con la yema d...</td>\n",
       "      <td>[Introducción]\\nHola a todos, bienvenidos a nu...</td>\n",
       "    </tr>\n",
       "    <tr>\n",
       "      <th>1</th>\n",
       "      <td>EXFOLIAR LA PIEL</td>\n",
       "      <td>El proceso de exfoliación de la piel consiste ...</td>\n",
       "      <td>Efflacar Gel Limpiador Purificante</td>\n",
       "      <td>En pieles con tendencia a las imperfecciones, ...</td>\n",
       "      <td>Tomar una pequeña cantidad de limpiador.Aplica...</td>\n",
       "      <td>Título: SkinCare en un minuto: Exfoliando tu p...</td>\n",
       "    </tr>\n",
       "    <tr>\n",
       "      <th>2</th>\n",
       "      <td>SÉRUM FACIAL</td>\n",
       "      <td>Siguiendo con este orden de rutina facial, le ...</td>\n",
       "      <td>Hyalu B5 Sérum</td>\n",
       "      <td>Su textura fresca se combina con dos ácidos hi...</td>\n",
       "      <td>Una avellana de producto.\\nMañana y/o noche. \\...</td>\n",
       "      <td>[Bienvenida/o a nuestro vídeo de skincare en u...</td>\n",
       "    </tr>\n",
       "  </tbody>\n",
       "</table>\n",
       "</div>"
      ],
      "text/plain": [
       "               Paso                                        Descripción  \\\n",
       "0   LIMPIEZA FACIAL  El primer paso en cualquier rutina facial es l...   \n",
       "1  EXFOLIAR LA PIEL  El proceso de exfoliación de la piel consiste ...   \n",
       "2      SÉRUM FACIAL  Siguiendo con este orden de rutina facial, le ...   \n",
       "\n",
       "                             Producto  \\\n",
       "0            Toleriane Dermolimpiador   \n",
       "1  Efflacar Gel Limpiador Purificante   \n",
       "2                      Hyalu B5 Sérum   \n",
       "\n",
       "                                Descripción Producto  \\\n",
       "0  Desmaquillante y limpiador facial de uso diari...   \n",
       "1  En pieles con tendencia a las imperfecciones, ...   \n",
       "2  Su textura fresca se combina con dos ácidos hi...   \n",
       "\n",
       "                                    Uso del Producto  \\\n",
       "0  Aplicar y masajear sobre la piel con la yema d...   \n",
       "1  Tomar una pequeña cantidad de limpiador.Aplica...   \n",
       "2  Una avellana de producto.\\nMañana y/o noche. \\...   \n",
       "\n",
       "                                               guion  \n",
       "0  [Introducción]\\nHola a todos, bienvenidos a nu...  \n",
       "1  Título: SkinCare en un minuto: Exfoliando tu p...  \n",
       "2  [Bienvenida/o a nuestro vídeo de skincare en u...  "
      ]
     },
     "execution_count": 10,
     "metadata": {},
     "output_type": "execute_result"
    }
   ],
   "source": [
    "df['guion'] = df.apply(skincare, axis=1)\n",
    "df"
   ]
  },
  {
   "cell_type": "markdown",
   "id": "597f564b",
   "metadata": {},
   "source": [
    "<div style=\"border-radius:10px; border:#808080 solid; padding: 15px; background-color: ##F0E68C ; font-size:100%; text-align:left\">\n",
    "Se visualiza los guiones que han sido generados."
   ]
  },
  {
   "cell_type": "code",
   "execution_count": 11,
   "id": "b9ab9c2c",
   "metadata": {},
   "outputs": [
    {
     "name": "stdout",
     "output_type": "stream",
     "text": [
      "[Introducción]\n",
      "Hola a todos, bienvenidos a nuestro primer video de la serie \"SkinCare en un minuto\". Hoy hablaremos sobre el primer paso esencial en cualquier rutina facial: la limpieza.\n",
      "\n",
      "[Desarrollo]\n",
      "Muchas veces pasamos por alto la importancia de limpiar adecuadamente nuestro rostro, pero eso no debería ser así. Por eso, te presentamos el Limpiador y Desmaquillante Toleriane de La Roche Posay. Este producto es ideal para pieles sensibles, secas e intolerantes, ya que limpia y potencia la hidratación en un solo paso, gracias a su combinación de ingredientes como la glicerina y el agua termal.\n",
      "\n",
      "[Pausa]\n",
      "¿Cómo se utiliza? Es muy fácil, simplemente aplica una pequeña cantidad en la yema de tus dedos y masajea suavemente sobre el rostro, los ojos, el cuello y el escote, realizando movimientos circulares. Luego, seca suavemente sin frotar. Y lo mejor de todo es que el aclarado es opcional, por lo que es perfecto para aquellos días en los que estás cansado y solo quieres irte a dormir.\n",
      "\n",
      "[Pausa]\n",
      "Puedes utilizarlo tanto en la mañana como en la noche, para una limpieza completa y eficiente. Y solo necesitas una avellana de producto, por lo que cunde mucho y es muy económico. Además, su fórmula suave y sin fragancia lo hace perfecto para aquellos que sufren de piel sensible.\n",
      "\n",
      "[Conclusión]\n",
      "No subestimes el poder de una buena limpieza facial. Con el Limpiador y Desmaquillante Toleriane de La Roche Posay, podrás tener una piel limpia, hidratada y radiante en solo unos minutos. Así que no esperes más, ¡agrega este producto a tu rutina de cuidado facial y verás la diferencia! Nos vemos en el próximo video de \"SkinCare en un minuto\".\n",
      "Título: SkinCare en un minuto: Exfoliando tu piel para una apariencia más sana y brillante.\n",
      "\n",
      "[Intro: música animada y tomas de una piel limpia y radiante]\n",
      "\n",
      "¡Hola a todos! Bienvenidos a SkinCare en un minuto, donde te traemos los mejores consejos para cuidar tu piel en poco tiempo. Hoy hablaremos sobre un paso crucial en cualquier rutina de skincare: ¡la exfoliación!\n",
      "\n",
      "[Escena: tomas de una persona aplicando el Effaclar Gel Limpiador Purificante en su rostro mientras la voz en off habla]\n",
      "\n",
      "La exfoliación es esencial para mantener una piel saludable, ya que ayuda a eliminar las células muertas, el exceso de sebo y las impurezas. Pero no es necesario hacerlo todos los días, una o dos veces por semana será suficiente dependiendo de tu tipo de piel.\n",
      "\n",
      "[Escena: tomas de una persona aplicando suavemente la crema exfoliante en su rostro]\n",
      "\n",
      "Para ello, te recomendamos el increíble Effaclar Gel Limpiador Purificante de La Roche-Posay. Esta crema exfoliante te ayudará a retirar las células muertas y a evitar la congestión de los poros, dejando tu piel suave y radiante.\n",
      "\n",
      "[Escena: tomas de una persona enjuagando su rostro con agua]\n",
      "\n",
      "En pieles con tendencia a imperfecciones, el pH es más elevado y pueden aparecer esos molestos granitos. Pero no te preocupes, Effaclar Gel Limpiador mantiene el equilibrio del pH mientras purifica tu piel.\n",
      "\n",
      "[Escena: tomas de una persona aplicando el limpiador en su cuerpo mientras la voz en off habla]\n",
      "\n",
      "Y no solo es bueno para tu rostro, también puedes utilizarlo en el cuerpo. Tomando una pequeña cantidad de limpiador, masajeándolo suavemente en tu piel con agua templada para abrir los poros. ¡Te sentirás renovado!\n",
      "\n",
      "[Cierre: tomas de una persona aplaudiendo y la voz en off habla]\n",
      "\n",
      "Y eso es todo por hoy en SkinCare en un minuto. Recuerda, exfoliar tu piel no tiene que ser un proceso complicado, ¡solo necesitas el producto adecuado! Así que pruébalo y disfruta de una piel más sana, suave y brillante en tan solo un minuto.\n",
      "\n",
      "[Escena: tomas del producto y logo de La Roche-Posay]\n",
      "\n",
      "¡Hasta la próxima! [Música de cierre]\n",
      "[Bienvenida/o a nuestro vídeo de skincare en un minuto. ¡Hoy hablaremos sobre el sérum facial y por qué deberías incluirlo en tu rutina diaria de cuidado de la piel!]\n",
      "\n",
      "[Voz en off] Sabemos que mantener una piel saludable y luminosa es importante para ti, y es por eso que hoy te presentamos el Hyalu B5 Sérum de nuestra línea de skincare. Este sérum es un must-have en cualquier rutina facial, gracias a su alto contenido de ingredientes activos y su textura líquida que se absorbe rápidamente.\n",
      "\n",
      "[En pantalla se muestra una imagen del producto]\n",
      "\n",
      "[Voz en off] Pero ¿qué hace que el Hyalu B5 Sérum sea tan especial? Su textura fresca se combina con dos ácidos hialurónicos puros y vitamina B5, que ayudan a reparar y proteger la barrera de la piel. Esto significa que es perfecto para combatir los signos de envejecimiento y mantener tu piel hidratada durante todo el día.\n",
      "\n",
      "[En pantalla se muestra una imagen de la aplicación del sérum]\n",
      "\n",
      "[Voz en off] Ahora, ¿cómo se recomienda su aplicación? Simplemente toma una avellana de producto y aplícalo sobre el rostro, los ojos, el cuello y el escote. Luego, masajea suavemente con la yema de los dedos, realizando movimientos circulares. Para finalizar, seca suavemente sin frotar. ¡Y si tienes prisa, no hay necesidad de enjuagar!\n",
      "\n",
      "[En pantalla se muestra una imagen del producto en uso]\n",
      "\n",
      "[Voz en off] Nuestro Hyalu B5 Sérum se puede usar tanto en la mañana como en la noche. Al incluirlo en tu rutina diaria, notarás una piel más suave, hidratada y radiante. ¡Pruébalo y verás la diferencia!\n",
      "\n",
      "[Cierre] Y esto es todo por hoy en nuestro skincare en un minuto. Esperamos que te haya gustado este vídeo y no olvides compartirlo con tus amigas y amigas. Gracias por vernos y nos vemos en el próximo episodio. ¡Hasta pronto!\n"
     ]
    },
    {
     "data": {
      "text/plain": [
       "0    None\n",
       "1    None\n",
       "2    None\n",
       "Name: guion, dtype: object"
      ]
     },
     "execution_count": 11,
     "metadata": {},
     "output_type": "execute_result"
    }
   ],
   "source": [
    "df['guion'].apply(print)"
   ]
  },
  {
   "cell_type": "markdown",
   "id": "d3e7f3df",
   "metadata": {},
   "source": [
    "### 6. Exportar"
   ]
  },
  {
   "cell_type": "markdown",
   "id": "8ac141ab",
   "metadata": {},
   "source": [
    "<div style=\"border-radius:10px; border:#808080 solid; padding: 15px; background-color: ##F0E68C ; font-size:100%; text-align:left\">\n",
    "Se exporta el resultado a un archivo excel."
   ]
  },
  {
   "cell_type": "code",
   "execution_count": 13,
   "id": "53453fe5",
   "metadata": {},
   "outputs": [],
   "source": [
    "df.to_excel('guion.xlsx')"
   ]
  }
 ],
 "metadata": {
  "kernelspec": {
   "display_name": "Python 3 (ipykernel)",
   "language": "python",
   "name": "python3"
  },
  "language_info": {
   "codemirror_mode": {
    "name": "ipython",
    "version": 3
   },
   "file_extension": ".py",
   "mimetype": "text/x-python",
   "name": "python",
   "nbconvert_exporter": "python",
   "pygments_lexer": "ipython3",
   "version": "3.11.5"
  }
 },
 "nbformat": 4,
 "nbformat_minor": 5
}
